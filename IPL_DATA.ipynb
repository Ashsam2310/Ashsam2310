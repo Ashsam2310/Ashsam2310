{
  "cells": [
    {
      "cell_type": "markdown",
      "metadata": {
        "id": "view-in-github",
        "colab_type": "text"
      },
      "source": [
        "<a href=\"https://colab.research.google.com/github/Ashsam2310/Ashsam2310/blob/main/IPL_DATA.ipynb\" target=\"_parent\"><img src=\"https://colab.research.google.com/assets/colab-badge.svg\" alt=\"Open In Colab\"/></a>"
      ]
    },
    {
      "cell_type": "code",
      "execution_count": 2,
      "metadata": {
        "colab": {
          "base_uri": "https://localhost:8080/"
        },
        "id": "oX7JdckQ1vPy",
        "outputId": "3d2e389e-f36c-45f8-e359-77079652c88f"
      },
      "outputs": [
        {
          "output_type": "stream",
          "name": "stdout",
          "text": [
            "Collecting pyspark\n",
            "  Downloading pyspark-3.2.1.tar.gz (281.4 MB)\n",
            "\u001b[K     |████████████████████████████████| 281.4 MB 34 kB/s \n",
            "\u001b[?25hCollecting py4j==0.10.9.3\n",
            "  Downloading py4j-0.10.9.3-py2.py3-none-any.whl (198 kB)\n",
            "\u001b[K     |████████████████████████████████| 198 kB 53.9 MB/s \n",
            "\u001b[?25hBuilding wheels for collected packages: pyspark\n",
            "  Building wheel for pyspark (setup.py) ... \u001b[?25l\u001b[?25hdone\n",
            "  Created wheel for pyspark: filename=pyspark-3.2.1-py2.py3-none-any.whl size=281853642 sha256=d8c4cbbb24a1608cfad7dd3fce7a09d7139b9c3a24ebf8b4240ac4d95a1b0ee0\n",
            "  Stored in directory: /root/.cache/pip/wheels/9f/f5/07/7cd8017084dce4e93e84e92efd1e1d5334db05f2e83bcef74f\n",
            "Successfully built pyspark\n",
            "Installing collected packages: py4j, pyspark\n",
            "Successfully installed py4j-0.10.9.3 pyspark-3.2.1\n"
          ]
        }
      ],
      "source": [
        "!pip install pyspark"
      ]
    },
    {
      "cell_type": "code",
      "source": [
        "import pyspark"
      ],
      "metadata": {
        "id": "ycaeBRAgy8qV"
      },
      "execution_count": 3,
      "outputs": []
    },
    {
      "cell_type": "code",
      "execution_count": null,
      "metadata": {
        "id": "hhTZxIoHP81k",
        "colab": {
          "base_uri": "https://localhost:8080/"
        },
        "outputId": "081a47cd-b517-484c-e41d-5ec1b44a6f02"
      },
      "outputs": [
        {
          "output_type": "stream",
          "name": "stdout",
          "text": [
            "[Row(venue_id='1', venue='Dr. Y.S. Rajasekhara Reddy ACA-VDCA Cricket Stadium', city='Visakhapatnam'), Row(venue_id='2', venue='Sharjah Cricket Stadium', city='Sharjah')]\n"
          ]
        }
      ],
      "source": [
        "\n",
        "from pyspark import SparkContext\n",
        "from pyspark.sql import SparkSession\n",
        "spark = SparkSession.builder.master(\"local\").appName(\"CsvReader\").getOrCreate()\n",
        "csv_df = spark.read.format(\"csv\").option(\"header\", \"true\").load(\"/content/sample_data/ipl_venue.csv\")\n",
        "print(csv_df.head(2))"
      ]
    },
    {
      "cell_type": "code",
      "execution_count": null,
      "metadata": {
        "colab": {
          "base_uri": "https://localhost:8080/"
        },
        "id": "BlQ36UqiCUe8",
        "outputId": "db9497c7-12ab-4db1-9d8b-a8ec98e1979a"
      },
      "outputs": [
        {
          "output_type": "stream",
          "name": "stdout",
          "text": [
            "root\n",
            " |-- venue_id: string (nullable = true)\n",
            " |-- venue: string (nullable = true)\n",
            " |-- city: string (nullable = true)\n",
            "\n"
          ]
        }
      ],
      "source": [
        "csv_df.printSchema()"
      ]
    },
    {
      "cell_type": "code",
      "execution_count": null,
      "metadata": {
        "colab": {
          "base_uri": "https://localhost:8080/"
        },
        "id": "I8crMrOyb677",
        "outputId": "51874e1a-9fc8-4a46-d6cd-ed9119605c2a"
      },
      "outputs": [
        {
          "output_type": "execute_result",
          "data": {
            "text/plain": [
              "35"
            ]
          },
          "metadata": {},
          "execution_count": 9
        }
      ],
      "source": [
        "csv_df.count()"
      ]
    },
    {
      "cell_type": "code",
      "execution_count": null,
      "metadata": {
        "id": "6Bd6phcqdKc9"
      },
      "outputs": [],
      "source": [
        "csv_df.columns"
      ]
    },
    {
      "cell_type": "code",
      "execution_count": null,
      "metadata": {
        "id": "TrwtEZxXcPfH"
      },
      "outputs": [],
      "source": [
        "spark.stop()"
      ]
    },
    {
      "cell_type": "code",
      "execution_count": 4,
      "metadata": {
        "id": "LgPsq62EdrjL",
        "colab": {
          "base_uri": "https://localhost:8080/"
        },
        "outputId": "fc9d68f2-dff7-4ede-eb6c-69e06bbd8884"
      },
      "outputs": [
        {
          "output_type": "stream",
          "name": "stderr",
          "text": [
            "/usr/local/lib/python3.7/dist-packages/pyspark/sql/context.py:79: FutureWarning: Deprecated in 3.0.0. Use SparkSession.builder.getOrCreate() instead.\n",
            "  FutureWarning\n"
          ]
        }
      ],
      "source": [
        "from pyspark import SparkContext\n",
        "from pyspark.sql import SQLContext\n",
        "sc=SparkContext()\n",
        "sqlc=SQLContext(sc)"
      ]
    },
    {
      "cell_type": "code",
      "execution_count": 5,
      "metadata": {
        "id": "nkA8Mwu9dwbo"
      },
      "outputs": [],
      "source": [
        "df1=sqlc.read.csv(\"/content/ipl_venue.csv\",header=True)\n",
        "df2=sqlc.read.csv(\"/content/ipl_matches.csv\",header=True)\n",
        "df3=sqlc.read.csv(\"ipl_ball_by_ball.csv\",header=True)"
      ]
    },
    {
      "cell_type": "code",
      "execution_count": null,
      "metadata": {
        "colab": {
          "base_uri": "https://localhost:8080/"
        },
        "id": "51nV4Llvd8-v",
        "outputId": "d733e670-f604-48ed-d5dd-7bf8e55f77e3"
      },
      "outputs": [
        {
          "output_type": "stream",
          "name": "stdout",
          "text": [
            "35\n",
            "816\n",
            "48929\n"
          ]
        }
      ],
      "source": [
        "print(df1.count())\n",
        "print(df2.count())\n",
        "print(df3.count())\n"
      ]
    },
    {
      "cell_type": "code",
      "execution_count": null,
      "metadata": {
        "colab": {
          "base_uri": "https://localhost:8080/"
        },
        "id": "jiqAVbPll3BE",
        "outputId": "419be279-0da0-48b9-fb59-77ec740cda2b"
      },
      "outputs": [
        {
          "output_type": "stream",
          "name": "stdout",
          "text": [
            "+--------+----------+---------------+--------+-------------+--------------------+--------------------+--------------------+-------------+--------------------+-------+-------------+----------+------+-----------+--------------+\n",
            "|match_id|      date|player_of_match|venue_id|neutral_venue|               team1|               team2|         toss_winner|toss_decision|              winner| result|result_margin|eliminator|method|    umpire1|       umpire2|\n",
            "+--------+----------+---------------+--------+-------------+--------------------+--------------------+--------------------+-------------+--------------------+-------+-------------+----------+------+-----------+--------------+\n",
            "|  335982|2008-04-18|    BB McCullum|      35|            0|Royal Challengers...|Kolkata Knight Ri...|Royal Challengers...|        field|Kolkata Knight Ri...|   runs|          140|         N|    NA|  Asad Rauf|   RE Koertzen|\n",
            "|  335983|2008-04-19|     MEK Hussey|      31|            0|     Kings XI Punjab| Chennai Super Kings| Chennai Super Kings|          bat| Chennai Super Kings|   runs|           33|         N|    NA|  MR Benson|    SL Shastri|\n",
            "|  335984|2008-04-19|    MF Maharoof|      27|            0|    Delhi Daredevils|    Rajasthan Royals|    Rajasthan Royals|          bat|    Delhi Daredevils|wickets|            9|         N|    NA|  Aleem Dar|GA Pratapkumar|\n",
            "|  335985|2008-04-20|     MV Boucher|      14|            0|      Mumbai Indians|Royal Challengers...|      Mumbai Indians|          bat|Royal Challengers...|wickets|            5|         N|    NA|   SJ Davis|     DJ Harper|\n",
            "|  335986|2008-04-20|      DJ Hussey|      15|            0|Kolkata Knight Ri...|     Deccan Chargers|     Deccan Chargers|          bat|Kolkata Knight Ri...|wickets|            5|         N|    NA|  BF Bowden|   K Hariharan|\n",
            "|  335987|2008-04-21|      SR Watson|      20|            0|    Rajasthan Royals|     Kings XI Punjab|     Kings XI Punjab|          bat|    Rajasthan Royals|wickets|            6|         N|    NA|  Aleem Dar|     RB Tiffin|\n",
            "|  335988|2008-04-22|       V Sehwag|      22|            0|     Deccan Chargers|    Delhi Daredevils|     Deccan Chargers|          bat|    Delhi Daredevils|wickets|            9|         N|    NA|  IL Howell|     AM Saheba|\n",
            "|  335989|2008-04-23|      ML Hayden|      29|            0| Chennai Super Kings|      Mumbai Indians|      Mumbai Indians|        field| Chennai Super Kings|   runs|            6|         N|    NA|  DJ Harper|GA Pratapkumar|\n",
            "|  335990|2008-04-24|      YK Pathan|      22|            0|     Deccan Chargers|    Rajasthan Royals|    Rajasthan Royals|        field|    Rajasthan Royals|wickets|            3|         N|    NA|  Asad Rauf|     MR Benson|\n",
            "|  335991|2008-04-25|  KC Sangakkara|      31|            0|     Kings XI Punjab|      Mumbai Indians|      Mumbai Indians|        field|     Kings XI Punjab|   runs|           66|         N|    NA|  Aleem Dar|     AM Saheba|\n",
            "|  335992|2008-04-26|      SR Watson|      35|            0|Royal Challengers...|    Rajasthan Royals|    Rajasthan Royals|        field|    Rajasthan Royals|wickets|            7|         N|    NA|  MR Benson|     IL Howell|\n",
            "|  335993|2008-04-26|       JDP Oram|      29|            0| Chennai Super Kings|Kolkata Knight Ri...|Kolkata Knight Ri...|          bat| Chennai Super Kings|wickets|            9|         N|    NA|  BF Bowden|AV Jayaprakash|\n",
            "|  335994|2008-04-27|   AC Gilchrist|      13|            0|      Mumbai Indians|     Deccan Chargers|     Deccan Chargers|        field|     Deccan Chargers|wickets|           10|         N|    NA|  Asad Rauf|    SL Shastri|\n",
            "|  335995|2008-04-27|      SM Katich|      31|            0|     Kings XI Punjab|    Delhi Daredevils|    Delhi Daredevils|          bat|     Kings XI Punjab|wickets|            4|         N|    NA|RE Koertzen|     I Shivram|\n",
            "|  335996|2008-04-28|       MS Dhoni|      35|            0|Royal Challengers...| Chennai Super Kings| Chennai Super Kings|          bat| Chennai Super Kings|   runs|           13|         N|    NA|BR Doctrove|     RB Tiffin|\n",
            "|  335997|2008-04-29|  ST Jayasuriya|      15|            0|Kolkata Knight Ri...|      Mumbai Indians|Kolkata Knight Ri...|          bat|      Mumbai Indians|wickets|            7|         N|    NA|  BF Bowden|AV Jayaprakash|\n",
            "|  335998|2008-04-30|     GD McGrath|      27|            0|    Delhi Daredevils|Royal Challengers...|Royal Challengers...|        field|    Delhi Daredevils|   runs|           10|         N|    NA|  Aleem Dar|     I Shivram|\n",
            "|  335999|2008-05-01|       SE Marsh|      22|            0|     Deccan Chargers|     Kings XI Punjab|     Kings XI Punjab|        field|     Kings XI Punjab|wickets|            7|         N|    NA|BR Doctrove|     RB Tiffin|\n",
            "|  336000|2008-05-01|    SA Asnodkar|      20|            0|    Rajasthan Royals|Kolkata Knight Ri...|    Rajasthan Royals|          bat|    Rajasthan Royals|   runs|           45|         N|    NA|RE Koertzen|GA Pratapkumar|\n",
            "|  336001|2008-05-02|       V Sehwag|      29|            0| Chennai Super Kings|    Delhi Daredevils| Chennai Super Kings|          bat|    Delhi Daredevils|wickets|            8|         N|    NA|  BF Bowden|   K Hariharan|\n",
            "+--------+----------+---------------+--------+-------------+--------------------+--------------------+--------------------+-------------+--------------------+-------+-------------+----------+------+-----------+--------------+\n",
            "only showing top 20 rows\n",
            "\n"
          ]
        }
      ],
      "source": [
        "df2.show()"
      ]
    },
    {
      "cell_type": "code",
      "source": [
        "df3.show()"
      ],
      "metadata": {
        "colab": {
          "base_uri": "https://localhost:8080/"
        },
        "id": "FNFbriqkTJpd",
        "outputId": "c5ef2a61-4007-431f-c563-97dca64a1976"
      },
      "execution_count": null,
      "outputs": [
        {
          "output_type": "stream",
          "name": "stdout",
          "text": [
            "+--------+------+-----+----+-------------+-------------+------------+------------+----------+----------+------------+---------+--------------+----------------+-------+-----------+--------------------+--------------------+\n",
            "|match_id|inning|overs|ball|      batsman|  non_striker|      bowler|batsman_runs|extra_runs|total_runs|non_boundary|is_wicket|dismissal_kind|player_dismissed|fielder|extras_type|        batting_team|        bowling_team|\n",
            "+--------+------+-----+----+-------------+-------------+------------+------------+----------+----------+------------+---------+--------------+----------------+-------+-----------+--------------------+--------------------+\n",
            "|  419157|     2|   16|   4|      V Kohli|R Vinay Kumar|CRD Fernando|           0|         0|         0|           0|        0|            NA|              NA|     NA|         NA|Royal Challengers...|      Mumbai Indians|\n",
            "|  419157|     2|   16|   5|      V Kohli|R Vinay Kumar|CRD Fernando|           1|         0|         1|           0|        0|            NA|              NA|     NA|         NA|Royal Challengers...|      Mumbai Indians|\n",
            "|  419157|     2|   16|   6|R Vinay Kumar|      V Kohli|CRD Fernando|           1|         0|         1|           0|        0|            NA|              NA|     NA|         NA|Royal Challengers...|      Mumbai Indians|\n",
            "|  419157|     2|   17|   1|R Vinay Kumar|      V Kohli|   R McLaren|           1|         0|         1|           0|        0|            NA|              NA|     NA|         NA|Royal Challengers...|      Mumbai Indians|\n",
            "|  419157|     2|   17|   2|      V Kohli|R Vinay Kumar|   R McLaren|           1|         0|         1|           0|        0|            NA|              NA|     NA|         NA|Royal Challengers...|      Mumbai Indians|\n",
            "|  419157|     2|   17|   3|R Vinay Kumar|      V Kohli|   R McLaren|           0|         0|         0|           0|        0|            NA|              NA|     NA|         NA|Royal Challengers...|      Mumbai Indians|\n",
            "|  419157|     2|   17|   4|R Vinay Kumar|      V Kohli|   R McLaren|           0|         0|         0|           0|        0|            NA|              NA|     NA|         NA|Royal Challengers...|      Mumbai Indians|\n",
            "|  419157|     2|   17|   5|R Vinay Kumar|      V Kohli|   R McLaren|           1|         0|         1|           0|        0|            NA|              NA|     NA|         NA|Royal Challengers...|      Mumbai Indians|\n",
            "|  419157|     2|   17|   6|      V Kohli|R Vinay Kumar|   R McLaren|           1|         0|         1|           0|        0|            NA|              NA|     NA|         NA|Royal Challengers...|      Mumbai Indians|\n",
            "|  419157|     2|   18|   1|      V Kohli|R Vinay Kumar|  KA Pollard|           4|         0|         4|           0|        0|            NA|              NA|     NA|         NA|Royal Challengers...|      Mumbai Indians|\n",
            "|  419157|     2|   18|   2|      V Kohli|R Vinay Kumar|  KA Pollard|           0|         0|         0|           0|        1|        caught|         V Kohli|AP Tare|         NA|Royal Challengers...|      Mumbai Indians|\n",
            "|  419157|     2|   18|   3|R Vinay Kumar| Pankaj Singh|  KA Pollard|           0|         1|         1|           0|        0|            NA|              NA|     NA|      wides|Royal Challengers...|      Mumbai Indians|\n",
            "|  419157|     2|   18|   4|R Vinay Kumar| Pankaj Singh|  KA Pollard|           1|         0|         1|           0|        0|            NA|              NA|     NA|         NA|Royal Challengers...|      Mumbai Indians|\n",
            "|  419157|     2|   18|   5| Pankaj Singh|R Vinay Kumar|  KA Pollard|           1|         0|         1|           0|        0|            NA|              NA|     NA|         NA|Royal Challengers...|      Mumbai Indians|\n",
            "|  419157|     2|   18|   6|R Vinay Kumar| Pankaj Singh|  KA Pollard|           1|         0|         1|           0|        0|            NA|              NA|     NA|         NA|Royal Challengers...|      Mumbai Indians|\n",
            "|  419157|     2|   18|   7| Pankaj Singh|R Vinay Kumar|  KA Pollard|           0|         0|         0|           0|        1|        caught|    Pankaj Singh| Z Khan|         NA|Royal Challengers...|      Mumbai Indians|\n",
            "|  419157|     2|   19|   1|     A Kumble|R Vinay Kumar|   R McLaren|           0|         0|         0|           0|        0|            NA|              NA|     NA|         NA|Royal Challengers...|      Mumbai Indians|\n",
            "|  419157|     1|    0|   1|    R McLaren| SR Tendulkar|    DW Steyn|           1|         0|         1|           0|        0|            NA|              NA|     NA|         NA|      Mumbai Indians|Royal Challengers...|\n",
            "|  419157|     1|    0|   2| SR Tendulkar|    R McLaren|    DW Steyn|           0|         0|         0|           0|        0|            NA|              NA|     NA|         NA|      Mumbai Indians|Royal Challengers...|\n",
            "|  419157|     1|    0|   3| SR Tendulkar|    R McLaren|    DW Steyn|           1|         0|         1|           0|        0|            NA|              NA|     NA|         NA|      Mumbai Indians|Royal Challengers...|\n",
            "+--------+------+-----+----+-------------+-------------+------------+------------+----------+----------+------------+---------+--------------+----------------+-------+-----------+--------------------+--------------------+\n",
            "only showing top 20 rows\n",
            "\n"
          ]
        }
      ]
    },
    {
      "cell_type": "code",
      "source": [
        "df1.createOrReplaceTempView(\"venue\")\n",
        "df2.createOrReplaceTempView(\"match\")\n",
        "df3.createOrReplaceTempView(\"ball\")"
      ],
      "metadata": {
        "id": "8g1vptUjnV8N"
      },
      "execution_count": 24,
      "outputs": []
    },
    {
      "cell_type": "code",
      "source": [
        "sqlc.sql(\"\"\"select venue.venue\n",
        "    from \n",
        "        (select venue_id,count(*) as col1 \n",
        "    from \n",
        "        (select * from match where eliminator = 'Y') group by venue_id order by col1 DESC LIMIT 3)\n",
        "    as \n",
        "         t1 \n",
        "    inner join \n",
        "        venue \n",
        "    on \n",
        "        t1.venue_id = venue.venue_id \"\"\").show()"
      ],
      "metadata": {
        "colab": {
          "base_uri": "https://localhost:8080/"
        },
        "id": "4o0V-aFqsmtz",
        "outputId": "2f1ca6bb-2c56-44fc-8f35-f99f48bc83ef"
      },
      "execution_count": null,
      "outputs": [
        {
          "output_type": "stream",
          "name": "stdout",
          "text": [
            "+--------------------+\n",
            "|               venue|\n",
            "+--------------------+\n",
            "|Dubai Internation...|\n",
            "|MA Chidambaram St...|\n",
            "|Sheikh Zayed Stadium|\n",
            "+--------------------+\n",
            "\n"
          ]
        }
      ]
    },
    {
      "cell_type": "code",
      "source": [
        "sqlc.sql(\"\"\"select fielder,count(*) as col1\n",
        "    from (select * from ball where dismissal_kind='caught') group by fielder order by col1 DESC limit 1 \"\"\").show()"
      ],
      "metadata": {
        "colab": {
          "base_uri": "https://localhost:8080/"
        },
        "id": "u9RvQHixwIuO",
        "outputId": "73977ce2-0b17-4305-8057-abe53a580939"
      },
      "execution_count": null,
      "outputs": [
        {
          "output_type": "stream",
          "name": "stdout",
          "text": [
            "+--------+----+\n",
            "| fielder|col1|\n",
            "+--------+----+\n",
            "|MS Dhoni|  36|\n",
            "+--------+----+\n",
            "\n"
          ]
        }
      ]
    },
    {
      "cell_type": "code",
      "source": [
        "sqlc.sql(\"select bowler from ball where match_id in (select match_id from match where method='D/L') and dismissal_kind != 'run out' and dismissal_kind != 'retired hurt' and dismissal_kind != 'NA' and extras_type!= 'noballs' and is_wicket ='1' group by bowler order by count(*) DESC limit 1\").show()"
      ],
      "metadata": {
        "colab": {
          "base_uri": "https://localhost:8080/"
        },
        "id": "Novw9PmcjvvI",
        "outputId": "15dbe413-8927-4de8-8952-43e00e60d8df"
      },
      "execution_count": null,
      "outputs": [
        {
          "output_type": "stream",
          "name": "stdout",
          "text": [
            "+-------+\n",
            "| bowler|\n",
            "+-------+\n",
            "|M Ntini|\n",
            "+-------+\n",
            "\n"
          ]
        }
      ]
    },
    {
      "cell_type": "code",
      "source": [
        "sqlc.sql(\"select t1.batsman,100*t2.runs/t1.balls from (select batsman,count(*) as balls from ball where overs > 6 and extras_type != 'noballs' group by batsman) as t1 inner join (select batsman,sum(batsman_runs) as runs from ball where overs > 6 group by batsman) as t2 on t1.batsman = t2.batsman order by 100*t2.runs/t1.balls DESC limit 1\").show()"
      ],
      "metadata": {
        "colab": {
          "base_uri": "https://localhost:8080/"
        },
        "id": "sUN38Vh3n74f",
        "outputId": "06de549c-cfba-46e2-d1cb-6d304702ae1a"
      },
      "execution_count": 26,
      "outputs": [
        {
          "output_type": "stream",
          "name": "stdout",
          "text": [
            "+----------+----------------------+\n",
            "|   batsman|((100 * runs) / balls)|\n",
            "+----------+----------------------+\n",
            "|B Stanlake|                 250.0|\n",
            "+----------+----------------------+\n",
            "\n"
          ]
        }
      ]
    },
    {
      "cell_type": "code",
      "source": [
        "sqlc.sql(\"\"\"\n",
        "    select venue.venue,venue.city,t2.total_extras from venue inner join  \n",
        "    (select match.venue_id,sum(t1.extras_sum) as total_extras from match join \n",
        "    (select match_id,sum(extra_runs) as extras_sum from ball group by match_id)as t1 on match.match_id = t1.match_id \n",
        "    group by match.venue_id order by total_extras DESC limit 1) as t2 on venue.venue_id = t2.venue_id\n",
        "\"\"\").show()"
      ],
      "metadata": {
        "colab": {
          "base_uri": "https://localhost:8080/"
        },
        "id": "mCY2HvPMrpH_",
        "outputId": "740bbd83-bc31-4756-e3d3-00c85ff352ea"
      },
      "execution_count": null,
      "outputs": [
        {
          "output_type": "stream",
          "name": "stdout",
          "text": [
            "+----------------+------+------------+\n",
            "|           venue|  city|total_extras|\n",
            "+----------------+------+------------+\n",
            "|Wankhede Stadium|Mumbai|       361.0|\n",
            "+----------------+------+------------+\n",
            "\n"
          ]
        }
      ]
    },
    {
      "cell_type": "code",
      "source": [
        "sqlc.sql(\"\"\"\n",
        "    select player_of_match from \n",
        "    (select player_of_match,count(*) as col1 from match where neutral_venue = 1 group by player_of_match) \n",
        "    where col1 = \n",
        "    (select max(col1) from (select player_of_match,count(*) as col1 from match \n",
        "     where neutral_venue = 1 group by player_of_match))\n",
        "\"\"\").show()"
      ],
      "metadata": {
        "colab": {
          "base_uri": "https://localhost:8080/"
        },
        "id": "sueGXJ2Zxms3",
        "outputId": "c0d2b45b-d016-45cf-ec70-6b9f12c3e954"
      },
      "execution_count": null,
      "outputs": [
        {
          "output_type": "stream",
          "name": "stdout",
          "text": [
            "+---------------+\n",
            "|player_of_match|\n",
            "+---------------+\n",
            "|      YK Pathan|\n",
            "|     GJ Maxwell|\n",
            "|      JH Kallis|\n",
            "|      JP Duminy|\n",
            "+---------------+\n",
            "\n"
          ]
        }
      ]
    },
    {
      "cell_type": "code",
      "source": [
        "sqlc.sql(\"\"\"\n",
        "    select t1.batsman,t1.run_scored/t2.outs as average from \n",
        "    (select batsman,sum(batsman_runs) as run_scored from ball group by batsman) as t1 inner join \n",
        "    (select player_dismissed,count(*) as outs from ball where player_dismissed != 'NA' group by player_dismissed) as t2 on\n",
        "    t1.batsman = t2.player_dismissed order by average DESC limit 10 \n",
        "\"\"\").show()"
      ],
      "metadata": {
        "colab": {
          "base_uri": "https://localhost:8080/"
        },
        "id": "B2fLsq7Kx0XO",
        "outputId": "7b2886a8-80ad-48c1-f6d1-3eae6ee4b47a"
      },
      "execution_count": null,
      "outputs": [
        {
          "output_type": "stream",
          "name": "stdout",
          "text": [
            "+-------------+------------------+\n",
            "|      batsman|           average|\n",
            "+-------------+------------------+\n",
            "|LA Pomersbach|             152.0|\n",
            "|      HM Amla|              92.0|\n",
            "|      TM Head|              77.0|\n",
            "|     CH Gayle| 71.88888888888889|\n",
            "|ST Jayasuriya| 68.66666666666667|\n",
            "|    CH Morris|              68.5|\n",
            "|    DA Miller|              64.0|\n",
            "|   MEK Hussey|62.666666666666664|\n",
            "|   RD Gaikwad|              57.0|\n",
            "|     KL Rahul|              54.5|\n",
            "+-------------+------------------+\n",
            "\n"
          ]
        }
      ]
    },
    {
      "cell_type": "code",
      "source": [
        ""
      ],
      "metadata": {
        "id": "OpW6tD5oV4ue"
      },
      "execution_count": null,
      "outputs": []
    },
    {
      "cell_type": "code",
      "source": [
        "sqlc.sql(\"\"\"\n",
        "    select umpire1,u1+u2 from \n",
        "    (select umpire1,count(umpire1) as u1 from match group by umpire1)as t1 inner join\n",
        "    (select umpire2,count(umpire2) as u2 from match group by umpire2)as t2 \n",
        "    on t1.umpire1 = t2.umpire2 order by u1+u2 DESC limit 1\n",
        "\"\"\").show()"
      ],
      "metadata": {
        "colab": {
          "base_uri": "https://localhost:8080/"
        },
        "id": "wc3xCJxDx0ak",
        "outputId": "2b16fde9-8438-41ce-c212-1cf769174fa7"
      },
      "execution_count": null,
      "outputs": [
        {
          "output_type": "stream",
          "name": "stdout",
          "text": [
            "+-------+---------+\n",
            "|umpire1|(u1 + u2)|\n",
            "+-------+---------+\n",
            "| S Ravi|      121|\n",
            "+-------+---------+\n",
            "\n"
          ]
        }
      ]
    },
    {
      "cell_type": "code",
      "source": [
        "sqlc.sql(\"\"\"\n",
        "    select venue.venue,venue.city,score from venue inner join \n",
        "    (select venue_id,score from match inner join \n",
        "    (select match_id,sum(batsman_runs) as score from ball where batsman = 'V Kohli' group by match_id \n",
        "    order by score DESC limit 1) as t1 where match.match_id = t1.match_id) as t2 on venue.venue_id = t2.venue_id\n",
        "\"\"\").show()"
      ],
      "metadata": {
        "colab": {
          "base_uri": "https://localhost:8080/"
        },
        "id": "vljYvk6jyJP_",
        "outputId": "5d9a2c87-a004-4859-821f-6b75d697d6a7"
      },
      "execution_count": null,
      "outputs": [
        {
          "output_type": "stream",
          "name": "stdout",
          "text": [
            "+----------------+------+-----+\n",
            "|           venue|  city|score|\n",
            "+----------------+------+-----+\n",
            "|Wankhede Stadium|Mumbai| 92.0|\n",
            "+----------------+------+-----+\n",
            "\n"
          ]
        }
      ]
    },
    {
      "cell_type": "code",
      "source": [
        "from pyspark.sql.functions import when\n",
        "from pyspark.sql import SparkSession\n",
        "spark = SparkSession.builder.master(\"local\").appName(\"CsvReader\").getOrCreate()\n",
        "df_match = spark.read.format(\"csv\").option(\"header\", \"true\").load(\"/content/ipl_matches.csv\",header=True)\n",
        "df_match = df_match.withColumn('Wins toss and match',df_match.winner == df_match.toss_winner)\n",
        "df_match = df_match.withColumn('Toss_Match',when(df_match['Wins toss and match'],'Win Both')\\\n",
        "                               .when(df_match['Wins toss and match'] == False ,'Lost Toss or Match'))\n",
        "df_match = df_match.join(df1,on = \"venue_id\")\n"
      ],
      "metadata": {
        "id": "we2X_p4Z3hyE"
      },
      "execution_count": 35,
      "outputs": []
    },
    {
      "cell_type": "code",
      "source": [
        "df_match.groupBy(df_match.Toss_Match).count().show()"
      ],
      "metadata": {
        "colab": {
          "base_uri": "https://localhost:8080/"
        },
        "id": "73T_r7JiTWgF",
        "outputId": "bf7026a5-ba89-4de0-bbd3-5a4f069f4749"
      },
      "execution_count": 71,
      "outputs": [
        {
          "output_type": "stream",
          "name": "stdout",
          "text": [
            "+------------------+-----+\n",
            "|        Toss_Match|count|\n",
            "+------------------+-----+\n",
            "|Lost Toss or Match|  398|\n",
            "|          Win Both|  418|\n",
            "+------------------+-----+\n",
            "\n"
          ]
        }
      ]
    },
    {
      "cell_type": "code",
      "source": [
        "import matplotlib.pyplot as plt\n",
        "import seaborn as sns"
      ],
      "metadata": {
        "id": "EQo_Hazd6G-w"
      },
      "execution_count": null,
      "outputs": []
    },
    {
      "cell_type": "code",
      "source": [
        "a=df_match.groupBy(df_match.Toss_Match).count().show()"
      ],
      "metadata": {
        "id": "B1FtygomaVPc",
        "colab": {
          "base_uri": "https://localhost:8080/"
        },
        "outputId": "8c67a18e-8f76-4b1b-d76e-3f4644aaf143"
      },
      "execution_count": 72,
      "outputs": [
        {
          "output_type": "stream",
          "name": "stdout",
          "text": [
            "+------------------+-----+\n",
            "|        Toss_Match|count|\n",
            "+------------------+-----+\n",
            "|Lost Toss or Match|  398|\n",
            "|          Win Both|  418|\n",
            "+------------------+-----+\n",
            "\n"
          ]
        }
      ]
    },
    {
      "cell_type": "code",
      "source": [
        "df=df_match.toPandas()"
      ],
      "metadata": {
        "id": "PitaG-Cgecve"
      },
      "execution_count": 97,
      "outputs": []
    },
    {
      "cell_type": "code",
      "source": [
        "sns.countplot(df.Toss_Match)"
      ],
      "metadata": {
        "colab": {
          "base_uri": "https://localhost:8080/",
          "height": 352
        },
        "id": "Q0mpWJnQe3Eb",
        "outputId": "f3897a1b-f188-4d65-9f98-32c008206f18"
      },
      "execution_count": 98,
      "outputs": [
        {
          "output_type": "stream",
          "name": "stderr",
          "text": [
            "/usr/local/lib/python3.7/dist-packages/seaborn/_decorators.py:43: FutureWarning: Pass the following variable as a keyword arg: x. From version 0.12, the only valid positional argument will be `data`, and passing other arguments without an explicit keyword will result in an error or misinterpretation.\n",
            "  FutureWarning\n"
          ]
        },
        {
          "output_type": "execute_result",
          "data": {
            "text/plain": [
              "<matplotlib.axes._subplots.AxesSubplot at 0x7ffacfd081d0>"
            ]
          },
          "metadata": {},
          "execution_count": 98
        },
        {
          "output_type": "display_data",
          "data": {
            "image/png": "[encoded data removed]",
            "text/plain": [
              "<Figure size 432x288 with 1 Axes>"
            ]
          },
          "metadata": {
            "needs_background": "light"
          }
        }
      ]
    },
    {
      "cell_type": "code",
      "source": [
        "import json\n",
        "class Database():\n",
        "    def __init__(self,loc):\n",
        "        self.loc = loc\n",
        "    def connect_to_db(self):\n",
        "        self.connection = sqlite3.connect(self.loc)\n",
        "        self.cursor = self.connection.cursor()\n",
        "        print(\"Connection Established\")\n",
        "    def add_table(self,df,table_name,schema):\n",
        "        # Add Dataframe as a table to Database \n",
        "        self.cursor.execute(f'''CREATE TABLE {table_name} ({schema})''')\n",
        "        df = df.toPandas()\n",
        "        df.to_sql(f'{table_name}', self.connection, if_exists='append', index = False)\n",
        "        print(f\"Loaded {table_name} into Database Successfully \")\n",
        "    def drop_table(self,table_name):\n",
        "        # Drop table from Database\n",
        "        try:\n",
        "            self.cursor.execute(f\"\"\"Drop table {table_name}\"\"\")\n",
        "        except:\n",
        "            print('Already Deleted')\n",
        "    def execute_query(self,query):\n",
        "        try :\n",
        "            query_res = self.cursor.execute(f\"\"\"{query}\"\"\")\n",
        "            return json.dumps(query_res.fetchall())\n",
        "        except sqlite3.Error as err:\n",
        "            print('Query Syntax Error')\n",
        "            return None\n",
        "    def get_status(self):\n",
        "        try:\n",
        "            self.connection.cursor()\n",
        "            print('Connected')\n",
        "        except :\n",
        "            print('No Connection')\n",
        "        return None\n",
        "    def close(self):\n",
        "        self.connection.close()"
      ],
      "metadata": {
        "id": "OQ8XyTvFrpdo"
      },
      "execution_count": 100,
      "outputs": []
    },
    {
      "cell_type": "code",
      "source": [
        "venue_schema = 'venue_id int,venue text,city text'\n",
        "match_schema = 'match_id int,date text,player_of_match text,venue_id int,neutral_venue int,team1 text,team2 text,toss_winner text,toss_decision text,winner text,result text,result_margin text,eliminator text, method text,umpire1 text,umpire2 text'\n",
        "ball_schema = 'match_id int, inning int, overs int, ball int, batsman text, non_striker text, bowler text, batsman_runs float, extra_runs float, total_runs float,non_boundary int,is_wicket int,dismissal_kind text,player_dismissed text,fielder text,extras_type text,batting_team text,bowling_team text'"
      ],
      "metadata": {
        "id": "59C7qq7_QdhV"
      },
      "execution_count": 101,
      "outputs": []
    },
    {
      "cell_type": "code",
      "source": [
        "import sqlite3\n",
        "ipl = Database('data.db')\n",
        "ipl.connect_to_db()\n",
        "ipl.add_table(df1,'venue',venue_schema)\n",
        "ipl.add_table(df2,'match',match_schema)\n",
        "ipl.add_table(df3,'ball',ball_schema)"
      ],
      "metadata": {
        "colab": {
          "base_uri": "https://localhost:8080/"
        },
        "id": "y8HlFu3vP2LX",
        "outputId": "6dad17d3-a6b5-4ba5-bd79-b3283ca058d1"
      },
      "execution_count": 102,
      "outputs": [
        {
          "output_type": "stream",
          "name": "stdout",
          "text": [
            "Connection Established\n",
            "Loaded venue into Database Successfully \n",
            "Loaded match into Database Successfully \n",
            "Loaded ball into Database Successfully \n"
          ]
        }
      ]
    },
    {
      "cell_type": "code",
      "source": [
        "ipl.execute_query(\"\"\"select venue.venue\n",
        "    from \n",
        "        (select venue_id,count(*) as col1 \n",
        "    from \n",
        "        (select * from match where eliminator = 'Y') group by venue_id order by col1 DESC LIMIT 3)\n",
        "    as \n",
        "         t1 \n",
        "    inner join \n",
        "        venue \n",
        "    on \n",
        "        t1.venue_id = venue.venue_id \"\"\")"
      ],
      "metadata": {
        "colab": {
          "base_uri": "https://localhost:8080/",
          "height": 53
        },
        "id": "rUT84-jLStdI",
        "outputId": "5829e097-f3ad-46f5-ebd1-07e40f20a053"
      },
      "execution_count": null,
      "outputs": [
        {
          "output_type": "execute_result",
          "data": {
            "application/vnd.google.colaboratory.intrinsic+json": {
              "type": "string"
            },
            "text/plain": [
              "'[[\"Dubai International Cricket Stadium\"], [\"Sheikh Zayed Stadium\"], [\"Saurashtra Cricket Association Stadium\"]]'"
            ]
          },
          "metadata": {},
          "execution_count": 27
        }
      ]
    },
    {
      "cell_type": "code",
      "source": [
        "ipl.execute_query(\"\"\"select fielder,count(*) as col1\n",
        "    from (select * from ball where dismissal_kind='caught') group by fielder order by col1 DESC limit 1 \"\"\")"
      ],
      "metadata": {
        "colab": {
          "base_uri": "https://localhost:8080/",
          "height": 35
        },
        "id": "Gt5IrDWBTn_k",
        "outputId": "d854702b-ebcb-4125-e301-4c9aab5b78d7"
      },
      "execution_count": null,
      "outputs": [
        {
          "output_type": "execute_result",
          "data": {
            "application/vnd.google.colaboratory.intrinsic+json": {
              "type": "string"
            },
            "text/plain": [
              "'[[\"MS Dhoni\", 36]]'"
            ]
          },
          "metadata": {},
          "execution_count": 29
        }
      ]
    },
    {
      "cell_type": "code",
      "source": [
        "ipl.execute_query(\"\"\"select t1.batsman,100*t2.runs/t1.balls from (select batsman,count(*) as balls from ball where overs > 6 and extras_type != 'noballs' group by batsman) as t1 inner join (select batsman,sum(batsman_runs) as runs from ball where overs > 6 group by batsman) as t2 on t1.batsman = t2.batsman order by 100*t2.runs/t1.balls DESC limit 1\"\"\")"
      ],
      "metadata": {
        "colab": {
          "base_uri": "https://localhost:8080/",
          "height": 35
        },
        "id": "UiGlTlDMToLG",
        "outputId": "43759714-c941-4470-9355-2c88d166a591"
      },
      "execution_count": null,
      "outputs": [
        {
          "output_type": "execute_result",
          "data": {
            "application/vnd.google.colaboratory.intrinsic+json": {
              "type": "string"
            },
            "text/plain": [
              "'[[\"LJ Wright\", 309.09090909090907]]'"
            ]
          },
          "metadata": {},
          "execution_count": 37
        }
      ]
    },
    {
      "cell_type": "code",
      "source": [
        "ipl.execute_query(\"\"\"select venue.venue,venue.city,t2.total_extras from venue inner join  \n",
        "    (select match.venue_id,sum(t1.extras_sum) as total_extras from match join \n",
        "    (select match_id,sum(extra_runs) as extras_sum from ball group by match_id)as t1 on match.match_id = t1.match_id \n",
        "    group by match.venue_id order by total_extras DESC limit 1) as t2 on venue.venue_id = t2.venue_id\"\"\")"
      ],
      "metadata": {
        "colab": {
          "base_uri": "https://localhost:8080/",
          "height": 35
        },
        "id": "_YbnU8uYVGI7",
        "outputId": "e96317c0-7502-444b-8b4e-896f6f662523"
      },
      "execution_count": null,
      "outputs": [
        {
          "output_type": "execute_result",
          "data": {
            "application/vnd.google.colaboratory.intrinsic+json": {
              "type": "string"
            },
            "text/plain": [
              "'[[\"Wankhede Stadium\", \"Mumbai\", 361.0]]'"
            ]
          },
          "metadata": {},
          "execution_count": 38
        }
      ]
    },
    {
      "cell_type": "code",
      "source": [
        "ipl.execute_query(\"\"\" select player_of_match from \n",
        "    (select player_of_match,count(*) as col1 from match where neutral_venue = 1 group by player_of_match) \n",
        "    where col1 = \n",
        "    (select max(col1) from (select player_of_match,count(*) as col1 from match \n",
        "     where neutral_venue = 1 group by player_of_match))\"\"\")\n"
      ],
      "metadata": {
        "colab": {
          "base_uri": "https://localhost:8080/",
          "height": 35
        },
        "id": "nG_XUwI0VL37",
        "outputId": "7a2dfe98-7b2f-4d88-9a3d-221048051876"
      },
      "execution_count": null,
      "outputs": [
        {
          "output_type": "execute_result",
          "data": {
            "application/vnd.google.colaboratory.intrinsic+json": {
              "type": "string"
            },
            "text/plain": [
              "'[[\"GJ Maxwell\"], [\"JH Kallis\"], [\"JP Duminy\"], [\"YK Pathan\"]]'"
            ]
          },
          "metadata": {},
          "execution_count": 39
        }
      ]
    },
    {
      "cell_type": "code",
      "source": [
        "ipl.execute_query(\"\"\"select t1.batsman,t1.run_scored/t2.outs as average from \n",
        "    (select batsman,sum(batsman_runs) as run_scored from ball group by batsman) as t1 inner join \n",
        "    (select player_dismissed,count(*) as outs from ball where player_dismissed != 'NA' group by player_dismissed) as t2 on\n",
        "    t1.batsman = t2.player_dismissed order by average DESC limit 10 \"\"\")"
      ],
      "metadata": {
        "colab": {
          "base_uri": "https://localhost:8080/",
          "height": 70
        },
        "id": "yku1PXB_V6ii",
        "outputId": "35525f74-a61d-43a3-edb8-99fca4719c7e"
      },
      "execution_count": null,
      "outputs": [
        {
          "output_type": "execute_result",
          "data": {
            "application/vnd.google.colaboratory.intrinsic+json": {
              "type": "string"
            },
            "text/plain": [
              "'[[\"LA Pomersbach\", 152.0], [\"HM Amla\", 92.0], [\"TM Head\", 77.0], [\"CH Gayle\", 71.88888888888889], [\"ST Jayasuriya\", 68.66666666666667], [\"CH Morris\", 68.5], [\"DA Miller\", 64.0], [\"MEK Hussey\", 62.666666666666664], [\"RD Gaikwad\", 57.0], [\"KL Rahul\", 54.5]]'"
            ]
          },
          "metadata": {},
          "execution_count": 42
        }
      ]
    },
    {
      "cell_type": "code",
      "source": [
        "ipl.execute_query(\"\"\"select umpire1,u1+u2 from \n",
        "    (select umpire1,count(umpire1) as u1 from match group by umpire1)as t1 inner join\n",
        "    (select umpire2,count(umpire2) as u2 from match group by umpire2)as t2 \n",
        "    on t1.umpire1 = t2.umpire2 order by u1+u2 DESC limit 1\"\"\")"
      ],
      "metadata": {
        "colab": {
          "base_uri": "https://localhost:8080/",
          "height": 35
        },
        "id": "RtEQ97s5VL_q",
        "outputId": "03e8f0bf-3992-431c-e75c-c8506dd03669"
      },
      "execution_count": null,
      "outputs": [
        {
          "output_type": "execute_result",
          "data": {
            "application/vnd.google.colaboratory.intrinsic+json": {
              "type": "string"
            },
            "text/plain": [
              "'[[\"S Ravi\", 121]]'"
            ]
          },
          "metadata": {},
          "execution_count": 43
        }
      ]
    },
    {
      "cell_type": "code",
      "source": [
        "ipl.execute_query(\"\"\"select venue.venue,venue.city,score from venue inner join \n",
        "    (select venue_id,score from match inner join \n",
        "    (select match_id,sum(batsman_runs) as score from ball where batsman = 'V Kohli' group by match_id \n",
        "    order by score DESC limit 1) as t1 where match.match_id = t1.match_id) as t2 on venue.venue_id = t2.venue_id\"\"\")"
      ],
      "metadata": {
        "colab": {
          "base_uri": "https://localhost:8080/",
          "height": 35
        },
        "id": "aXguCydiWNkQ",
        "outputId": "fe776722-7e68-417b-c345-c8e519a161a1"
      },
      "execution_count": null,
      "outputs": [
        {
          "output_type": "execute_result",
          "data": {
            "application/vnd.google.colaboratory.intrinsic+json": {
              "type": "string"
            },
            "text/plain": [
              "'[[\"Wankhede Stadium\", \"Mumbai\", 92.0]]'"
            ]
          },
          "metadata": {},
          "execution_count": 44
        }
      ]
    },
    {
      "cell_type": "code",
      "source": [
        "ipl.execute_query(\"\"\"select count(*) from match where winner=toss_winner\"\"\")"
      ],
      "metadata": {
        "colab": {
          "base_uri": "https://localhost:8080/",
          "height": 35
        },
        "id": "TcaXbzuugnj_",
        "outputId": "74df1659-30e7-4181-9c04-676dbc59ddad"
      },
      "execution_count": 109,
      "outputs": [
        {
          "output_type": "execute_result",
          "data": {
            "application/vnd.google.colaboratory.intrinsic+json": {
              "type": "string"
            },
            "text/plain": [
              "'[[418]]'"
            ]
          },
          "metadata": {},
          "execution_count": 109
        }
      ]
    },
    {
      "cell_type": "code",
      "source": [
        "ipl.execute_query(\"\"\"select count(*) from match where winner!=toss_winner\"\"\")"
      ],
      "metadata": {
        "colab": {
          "base_uri": "https://localhost:8080/",
          "height": 35
        },
        "id": "pxGnixk4iBAk",
        "outputId": "b2e8359f-f270-4475-de29-cbb27849d15b"
      },
      "execution_count": 108,
      "outputs": [
        {
          "output_type": "execute_result",
          "data": {
            "application/vnd.google.colaboratory.intrinsic+json": {
              "type": "string"
            },
            "text/plain": [
              "'[[398]]'"
            ]
          },
          "metadata": {},
          "execution_count": 108
        }
      ]
    }
  ],
  "metadata": {
    "colab": {
      "name": "IPL_DATA.ipynb",
      "provenance": [],
      "collapsed_sections": [],
      "authorship_tag": "ABX9TyOmWu84/Sdp3hE988JQiMc0",
      "include_colab_link": true
    },
    "kernelspec": {
      "display_name": "Python 3",
      "name": "python3"
    },
    "language_info": {
      "name": "python"
    }
  },
  "nbformat": 4,
  "nbformat_minor": 0
}