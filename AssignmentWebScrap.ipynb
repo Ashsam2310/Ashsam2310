{
 "cells": [
  {
   "cell_type": "code",
   "execution_count": 3,
   "metadata": {},
   "outputs": [],
   "source": [
    "import selenium\n",
    "import pandas as pd\n",
    "import numpy as np\n",
    "from selenium import webdriver\n",
    "from selenium.common.exceptions import StaleElementReferenceException,NoSuchElementException\n",
    "import time\n",
    "from bs4 import BeautifulSoup\n",
    "import requests\n",
    "from selenium.webdriver.common.keys import Keys"
   ]
  },
  {
   "cell_type": "code",
   "execution_count": 5,
   "metadata": {},
   "outputs": [
    {
     "name": "stderr",
     "output_type": "stream",
     "text": [
      "<ipython-input-5-99e41e1c52e9>:1: DeprecationWarning: executable_path has been deprecated, please pass in a Service object\n",
      "  driver = webdriver.Chrome(r'C:\\Users\\Asus\\Downloads\\chrome_driver_win32\\chromedriver')\n"
     ]
    }
   ],
   "source": [
    "driver = webdriver.Chrome(r'C:\\Users\\Asus\\Downloads\\chrome_driver_win32\\chromedriver')\n",
    "driver.get('https://www.midsouthshooterssupply.com/dept/reloading/primers?currentpage=1')"
   ]
  },
  {
   "cell_type": "code",
   "execution_count": 6,
   "metadata": {},
   "outputs": [
    {
     "name": "stderr",
     "output_type": "stream",
     "text": [
      "<ipython-input-6-6f1b64c6027e>:1: DeprecationWarning: find_element_by_* commands are deprecated. Please use find_element() instead\n",
      "  src=driver.find_element_by_id('close-button')\n"
     ]
    }
   ],
   "source": [
    "src=driver.find_element_by_id('close-button')\n",
    "src.click()"
   ]
  },
  {
   "cell_type": "code",
   "execution_count": 24,
   "metadata": {},
   "outputs": [],
   "source": [
    "price=[]\n",
    "title=[]\n",
    "stock_status=[]\n",
    "manufacturer=[]"
   ]
  },
  {
   "cell_type": "code",
   "execution_count": 25,
   "metadata": {},
   "outputs": [
    {
     "name": "stderr",
     "output_type": "stream",
     "text": [
      "<ipython-input-25-6e69a2a0d2be>:1: DeprecationWarning: find_element_by_* commands are deprecated. Please use find_element() instead\n",
      "  srt=driver.find_element_by_xpath('//div[@class=\"items-per-page\"]/select/option[3]')\n",
      "<ipython-input-25-6e69a2a0d2be>:5: DeprecationWarning: find_elements_by_* commands are deprecated. Please use find_elements() instead\n",
      "  AL=driver.find_elements_by_xpath('//span[@class=\"price\"]')\n",
      "<ipython-input-25-6e69a2a0d2be>:10: DeprecationWarning: find_elements_by_* commands are deprecated. Please use find_elements() instead\n",
      "  SRC=driver.find_elements_by_xpath('//a[@class=\"catalog-item-name\"]')\n",
      "<ipython-input-25-6e69a2a0d2be>:11: DeprecationWarning: find_elements_by_* commands are deprecated. Please use find_elements() instead\n",
      "  DST=driver.find_elements_by_xpath('//span[@class=\"status\"]/span')\n",
      "<ipython-input-25-6e69a2a0d2be>:17: DeprecationWarning: find_elements_by_* commands are deprecated. Please use find_elements() instead\n",
      "  mfr=driver.find_elements_by_xpath('//a[@class=\"catalog-item-brand\"]')\n"
     ]
    }
   ],
   "source": [
    "srt=driver.find_element_by_xpath('//div[@class=\"items-per-page\"]/select/option[3]')\n",
    "srt.click()\n",
    "time.sleep(3)\n",
    "price=[]\n",
    "AL=driver.find_elements_by_xpath('//span[@class=\"price\"]')\n",
    "for i in AL:\n",
    "    price.append(i.text)\n",
    "title=[]\n",
    "stock_status=[]\n",
    "SRC=driver.find_elements_by_xpath('//a[@class=\"catalog-item-name\"]')\n",
    "DST=driver.find_elements_by_xpath('//span[@class=\"status\"]/span')\n",
    "for i in DST:\n",
    "    stock_status.append(i.get_attribute('class'))\n",
    "for i in SRC:\n",
    "        title.append(i.text)    \n",
    "manufacturer=[]\n",
    "mfr=driver.find_elements_by_xpath('//a[@class=\"catalog-item-brand\"]')\n",
    "for i in mfr:\n",
    "    manufacturer.append(i.text)"
   ]
  },
  {
   "cell_type": "code",
   "execution_count": 26,
   "metadata": {},
   "outputs": [
    {
     "name": "stdout",
     "output_type": "stream",
     "text": [
      "48 48 48 48\n"
     ]
    }
   ],
   "source": [
    "print(len(title),len(price),len(stock_status),len(manufacturer))"
   ]
  },
  {
   "cell_type": "code",
   "execution_count": 27,
   "metadata": {},
   "outputs": [],
   "source": [
    "prod_df = pd.DataFrame({'Title':title,'Price':price,'Stock_status':stock_status,'Manufacturer':manufacturer})"
   ]
  },
  {
   "cell_type": "code",
   "execution_count": 29,
   "metadata": {},
   "outputs": [],
   "source": [
    "json = prod_df.to_json()"
   ]
  },
  {
   "cell_type": "code",
   "execution_count": 31,
   "metadata": {},
   "outputs": [
    {
     "data": {
      "text/plain": [
       "'{\"Title\":{\"0\":\"Winchester USA Ready Match Large Pistol Primers 1000 Count\",\"1\":\"Winchester USA Ready Match Large Rifle Primers 1000 Count\",\"2\":\"Winchester USA Ready Match Small Pistol Primers 1000 Count\",\"3\":\"Winchester USA Ready Match Small Rifle Primers 1000 Count\",\"4\":\"Winchester Small Pistol Primers 1000 Count\",\"5\":\"#500 Small Pistol Primer (1000 Count)\",\"6\":\"Winchester Large Pistol Primers 1000 Count\",\"7\":\"#300 Large Pistol Primer (1000 Count)\",\"8\":\"Winchester Small Rifle Primers 1000 Count\",\"9\":\"#400 Small Rifle Primer (1000 Count)\",\"10\":\"Winchester Large Rifle Primers 1000 Count\",\"11\":\"#200 Large Rifle Primer (1000 Count)\",\"12\":\"Winchester Small Pistol Magnum Primers 1000 Count\",\"13\":\"Winchester Magnum Large Rifle Primers 1000 Count\",\"14\":\"#450 Magnum Small Rifle Primer (1000 Count)\",\"15\":\"#250 Magnum Large Rifle Primer (1000 Count)\",\"16\":\"#550 Magnum Small Pistol Primer (1000 Count)\",\"17\":\"#350 Magnum Large Pistol Primer (1000 Count)\",\"18\":\"Gold Medal Large Rifle Match Primer #GM210M (1000 Count)\",\"19\":\"#41 5.56 & 30 Carbine NATO Spec Primer 1000 Count\",\"20\":\"#34 7.62mm & 30-06 NATO Spec Primer 1000 Count\",\"21\":\"BR2 Large Rifle Bench Rest Primers (1000 Count)\",\"22\":\"BR4 Small Rifle Bench Rest Primer (1000 Count)\",\"23\":\"#35 50 Caliber BMG Primer (500 Count)\",\"24\":\"1 1\\\\/2 Small Pistol Primer (1000 Count)\",\"25\":\"2 1\\\\/2 Large Pistol Primer (1000 Count)\",\"26\":\"6 1\\\\/2 Small Rifle Primer (1000 Count)\",\"27\":\"9 1\\\\/2 Large Rifle Primer (1000 Count)\",\"28\":\"9 1\\\\/2 Magnum Large Rifle Primer (1000 Count)\",\"29\":\"5 1\\\\/2 Small Mag Pistol Primer (1000 Count)\",\"30\":\"7 1\\\\/2 Bench Rest Small Rifle Primer (1000 Count)\",\"31\":\"209 Premier STS Shotshell Primer (1000 Count)\",\"32\":\"Winchester Shot Shell Primers 1000 Count\",\"33\":\"Federal Small Pistol Primer #100 (1000 Count)\",\"34\":\"Large Pistol Primer #150 (1000 Count)\",\"35\":\"Magnum Large Pistol Primer #155 (1000 Count)\",\"36\":\"Magnum Small Pistol Primer #200 (1000 Count)\",\"37\":\"Small Rifle Primer #205 (1000 Count)\",\"38\":\"209A Shotshell Primer 1000 Count\",\"39\":\"Large Rifle Primer #210 (1000 Count)\",\"40\":\"Magnum Large Rifle Primer #215 (1000 Count)\",\"41\":\"Gold Medal Small Pistol Match Primer #GM100M (1000 Count)\",\"42\":\"Gold Medal Large Pistol Match Primer #GM150M (1000 Count)\",\"43\":\"Gold Medal Magnum Large Pistol Match Primer #GM155M (1000 Count)\",\"44\":\"Gold Medal Magnum Small Pistol Match Primer #GM200M (1000 Count)\",\"45\":\"Gold Medal Small Rifle Match Primer #GM205M (1000 Count)\",\"46\":\"Gold Medal AR Match Small Rifle Primer #GM205MAR (1000 Count)\",\"47\":\"Gold Medal Magnum Large Rifle Match Primer #GM215M (1000 Count)\"},\"Price\":{\"0\":\"$70.04\",\"1\":\"$70.04\",\"2\":\"$70.04\",\"3\":\"$70.04\",\"4\":\"$60.90\",\"5\":\"$69.13\",\"6\":\"$60.90\",\"7\":\"$69.13\",\"8\":\"$60.90\",\"9\":\"$69.13\",\"10\":\"$60.90\",\"11\":\"$69.13\",\"12\":\"$60.90\",\"13\":\"$67.28\",\"14\":\"$76.26\",\"15\":\"$76.26\",\"16\":\"$69.13\",\"17\":\"$76.26\",\"18\":\"$81.69\",\"19\":\"$90.68\",\"20\":\"$91.14\",\"21\":\"$121.52\",\"22\":\"$121.52\",\"23\":\"$442.94\",\"24\":\"$71.15\",\"25\":\"$71.15\",\"26\":\"$71.15\",\"27\":\"$71.15\",\"28\":\"$78.43\",\"29\":\"$71.15\",\"30\":\"$71.15\",\"31\":\"$96.41\",\"32\":\"$54.96\",\"33\":\"$71.15\",\"34\":\"$71.15\",\"35\":\"$78.43\",\"36\":\"$71.15\",\"37\":\"$71.15\",\"38\":\"$57.96\",\"39\":\"$71.15\",\"40\":\"$78.43\",\"41\":\"$81.69\",\"42\":\"$81.69\",\"43\":\"$89.28\",\"44\":\"$81.69\",\"45\":\"$81.69\",\"46\":\"$81.69\",\"47\":\"$89.28\"},\"Stock_status\":{\"0\":\"out-of-stock\",\"1\":\"out-of-stock\",\"2\":\"out-of-stock\",\"3\":\"out-of-stock\",\"4\":\"out-of-stock\",\"5\":\"out-of-stock\",\"6\":\"out-of-stock\",\"7\":\"out-of-stock\",\"8\":\"out-of-stock\",\"9\":\"out-of-stock\",\"10\":\"out-of-stock\",\"11\":\"out-of-stock\",\"12\":\"out-of-stock\",\"13\":\"out-of-stock\",\"14\":\"out-of-stock\",\"15\":\"out-of-stock\",\"16\":\"out-of-stock\",\"17\":\"out-of-stock\",\"18\":\"out-of-stock\",\"19\":\"out-of-stock\",\"20\":\"out-of-stock\",\"21\":\"out-of-stock\",\"22\":\"out-of-stock\",\"23\":\"out-of-stock\",\"24\":\"out-of-stock\",\"25\":\"out-of-stock\",\"26\":\"out-of-stock\",\"27\":\"out-of-stock\",\"28\":\"out-of-stock\",\"29\":\"out-of-stock\",\"30\":\"out-of-stock\",\"31\":\"out-of-stock\",\"32\":\"out-of-stock\",\"33\":\"out-of-stock\",\"34\":\"out-of-stock\",\"35\":\"out-of-stock\",\"36\":\"out-of-stock\",\"37\":\"out-of-stock\",\"38\":\"out-of-stock\",\"39\":\"out-of-stock\",\"40\":\"out-of-stock\",\"41\":\"out-of-stock\",\"42\":\"out-of-stock\",\"43\":\"out-of-stock\",\"44\":\"out-of-stock\",\"45\":\"out-of-stock\",\"46\":\"out-of-stock\",\"47\":\"out-of-stock\"},\"Manufacturer\":{\"0\":\"Winchester\",\"1\":\"Winchester\",\"2\":\"Winchester\",\"3\":\"Winchester\",\"4\":\"Winchester\",\"5\":\"CCI\",\"6\":\"Winchester\",\"7\":\"CCI\",\"8\":\"Winchester\",\"9\":\"CCI\",\"10\":\"Winchester\",\"11\":\"CCI\",\"12\":\"Winchester\",\"13\":\"Winchester\",\"14\":\"CCI\",\"15\":\"CCI\",\"16\":\"CCI\",\"17\":\"CCI\",\"18\":\"Federal\",\"19\":\"CCI\",\"20\":\"CCI\",\"21\":\"CCI\",\"22\":\"CCI\",\"23\":\"CCI\",\"24\":\"Remington\",\"25\":\"Remington\",\"26\":\"Remington\",\"27\":\"Remington\",\"28\":\"Remington\",\"29\":\"Remington\",\"30\":\"Remington\",\"31\":\"Remington\",\"32\":\"Winchester\",\"33\":\"Federal\",\"34\":\"Federal\",\"35\":\"Federal\",\"36\":\"Federal\",\"37\":\"Federal\",\"38\":\"Federal\",\"39\":\"Federal\",\"40\":\"Federal\",\"41\":\"Federal\",\"42\":\"Federal\",\"43\":\"Federal\",\"44\":\"Federal\",\"45\":\"Federal\",\"46\":\"Federal\",\"47\":\"Federal\"}}'"
      ]
     },
     "execution_count": 31,
     "metadata": {},
     "output_type": "execute_result"
    }
   ],
   "source": [
    "json"
   ]
  },
  {
   "cell_type": "code",
   "execution_count": null,
   "metadata": {},
   "outputs": [],
   "source": []
  }
 ],
 "metadata": {
  "kernelspec": {
   "display_name": "Python 3",
   "language": "python",
   "name": "python3"
  },
  "language_info": {
   "codemirror_mode": {
    "name": "ipython",
    "version": 3
   },
   "file_extension": ".py",
   "mimetype": "text/x-python",
   "name": "python",
   "nbconvert_exporter": "python",
   "pygments_lexer": "ipython3",
   "version": "3.8.5"
  }
 },
 "nbformat": 4,
 "nbformat_minor": 4
}
