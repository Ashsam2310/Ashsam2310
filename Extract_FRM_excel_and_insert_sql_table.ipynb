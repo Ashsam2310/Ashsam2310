{
 "cells": [
  {
   "cell_type": "code",
   "execution_count": 1,
   "id": "6d49126d",
   "metadata": {},
   "outputs": [],
   "source": [
    "import pyodbc\n",
    "import re\n",
    "import openpyxl"
   ]
  },
  {
   "cell_type": "code",
   "execution_count": 3,
   "id": "fe7a4f05",
   "metadata": {},
   "outputs": [],
   "source": [
    "conn = pyodbc.connect('Driver={SQL Server};'\n",
    "                      'Server=Ashish-Samal;'\n",
    "                       'Database=master;'\n",
    "                      'Trusted_Connection=yes;')\n",
    "\n",
    "cursor = conn.cursor()\n",
    "wb = openpyxl.load_workbook(\"Book1.xlsx\", data_only=True)\n",
    "sh = wb[\"Sheet1\"]\n",
    "table_name=sh[\"E2\"].value\n",
    "if table_name=='INT.INT_SOURCE' :\n",
    "    pstg=sh[\"F4\"].value\n",
    "    int1=sh[\"F5\"].value\n",
    "    data1=cursor.execute(\"select SOURCE_NAME from INT_SOURCE WHERE SOURCE_NAME=(?)\",(pstg))\n",
    "    if not data1:\n",
    "        pass\n",
    "    else:\n",
    "        cursor.execute(\"INSERT INTO INT_SOURCE(SOURCE_NAME) values ((?))\",(pstg))\n",
    "    data2=cursor.execute(\"select SOURCE_NAME from INT_SOURCE WHERE SOURCE_NAME=(?)\",(int1))\n",
    "    if not data2:\n",
    "        pass\n",
    "    else:\n",
    "        cursor.execute(\"INSERT INTO INT_SOURCE(SOURCE_NAME) values ((?))\",(int1))\n",
    "else:\n",
    "    pass"
   ]
  },
  {
   "cell_type": "code",
   "execution_count": 5,
   "id": "34ca4447",
   "metadata": {},
   "outputs": [],
   "source": [
    "cursor.close()"
   ]
  },
  {
   "cell_type": "code",
   "execution_count": 6,
   "id": "d7b34020",
   "metadata": {},
   "outputs": [],
   "source": [
    "del cursor"
   ]
  },
  {
   "cell_type": "code",
   "execution_count": 4,
   "id": "6c845682",
   "metadata": {},
   "outputs": [
    {
     "name": "stdout",
     "output_type": "stream",
     "text": [
      "(1, 'PSTG_POPULATION_UCAR', 999, datetime.datetime(2022, 6, 16, 18, 3, 13, 677000), 'SVC_MATILLION', datetime.datetime(2022, 6, 16, 18, 3, 13, 677000), 'SVC_MATILLION', None, None, None, None)\n",
      "(2, 'PSTG_POPULATION_HUMANA', 999, datetime.datetime(2022, 6, 16, 18, 3, 13, 677000), 'SVC_MATILLION', datetime.datetime(2022, 6, 16, 18, 3, 13, 677000), 'SVC_MATILLION', None, None, None, None)\n",
      "(3, 'PSTG_SF_ACCOUNT_MEMBER', 999, datetime.datetime(2022, 6, 16, 18, 3, 13, 677000), 'SVC_MATILLION', datetime.datetime(2022, 6, 16, 18, 3, 13, 677000), 'SVC_MATILLION', None, None, None, None)\n",
      "(4, 'INT_Population', 999, datetime.datetime(2022, 6, 16, 18, 3, 13, 677000), 'SVC_MATILLION', datetime.datetime(2022, 6, 16, 18, 3, 13, 677000), 'SVC_MATILLION', None, None, None, None)\n",
      "(5, 'PSTG_SF_ACCOUNT_CLIENT', 999, datetime.datetime(2022, 6, 16, 18, 3, 13, 677000), 'SVC_MATILLION', datetime.datetime(2022, 6, 16, 18, 3, 13, 677000), 'SVC_MATILLION', None, None, None, None)\n",
      "(6, 'PSTG_POPULATION_DAVITA', 999, datetime.datetime(2022, 6, 16, 18, 3, 13, 677000), 'SVC_MATILLION', datetime.datetime(2022, 6, 16, 18, 3, 13, 677000), 'SVC_MATILLION', None, None, None, None)\n",
      "(7, 'PSTG_POPULATION_CMHA', 999, datetime.datetime(2022, 6, 16, 18, 3, 13, 677000), 'SVC_MATILLION', datetime.datetime(2022, 6, 16, 18, 3, 13, 677000), 'SVC_MATILLION', None, None, None, None)\n",
      "(8, 'PSTG_POPULATION_SDNB', 999, datetime.datetime(2022, 6, 16, 18, 3, 13, 677000), 'SVC_MATILLION', datetime.datetime(2022, 6, 16, 18, 3, 13, 677000), 'SVC_MATILLION', None, None, None, None)\n",
      "(11, 'NEW DATA1', 999, datetime.datetime(2022, 6, 16, 18, 49, 27, 943000), None, datetime.datetime(2022, 6, 16, 18, 49, 27, 943000), None, None, None, None, None)\n",
      "(12, 'NEW DATA2', 999, datetime.datetime(2022, 6, 16, 18, 49, 27, 943000), None, datetime.datetime(2022, 6, 16, 18, 49, 27, 943000), None, None, None, None, None)\n"
     ]
    }
   ],
   "source": [
    "check=cursor.execute(\"Select * from INT_SOURCE\")\n",
    "for i in check:\n",
    "    print(i)"
   ]
  }
 ],
 "metadata": {
  "kernelspec": {
   "display_name": "Python 3",
   "language": "python",
   "name": "python3"
  },
  "language_info": {
   "codemirror_mode": {
    "name": "ipython",
    "version": 3
   },
   "file_extension": ".py",
   "mimetype": "text/x-python",
   "name": "python",
   "nbconvert_exporter": "python",
   "pygments_lexer": "ipython3",
   "version": "3.8.8"
  }
 },
 "nbformat": 4,
 "nbformat_minor": 5
}
